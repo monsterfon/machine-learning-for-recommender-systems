{
 "cells": [
  {
   "cell_type": "code",
   "execution_count": 3,
   "metadata": {},
   "outputs": [],
   "source": [
    "\n",
    "\n",
    "\n",
    "from tqdm import tqdm\n",
    "import numpy as np\n",
    "import pandas as pd\n",
    "\n",
    "from sklearn.feature_extraction.text import TfidfVectorizer\n",
    "from sklearn.metrics.pairwise import linear_kernel\n"
   ]
  },
  {
   "cell_type": "code",
   "execution_count": 4,
   "metadata": {},
   "outputs": [
    {
     "name": "stdout",
     "output_type": "stream",
     "text": [
      "Movies Data:\n",
      "   movieId                               title  \\\n",
      "0        1                    Toy Story (1995)   \n",
      "1        2                      Jumanji (1995)   \n",
      "2        3             Grumpier Old Men (1995)   \n",
      "3        4            Waiting to Exhale (1995)   \n",
      "4        5  Father of the Bride Part II (1995)   \n",
      "\n",
      "                                        genres  \n",
      "0  Adventure|Animation|Children|Comedy|Fantasy  \n",
      "1                   Adventure|Children|Fantasy  \n",
      "2                               Comedy|Romance  \n",
      "3                         Comedy|Drama|Romance  \n",
      "4                                       Comedy  \n",
      "\n",
      "Ratings Data:\n",
      "   userId  movieId  rating  timestamp\n",
      "0       1        1     4.0  964982703\n",
      "1       1        3     4.0  964981247\n",
      "2       1        6     4.0  964982224\n",
      "3       1       47     5.0  964983815\n",
      "4       1       50     5.0  964982931\n"
     ]
    }
   ],
   "source": [
    "RATINGS_DATA_FILE = 'ratings.csv'\n",
    "MOVIES_DATA_FILE = 'movies.csv'\n",
    "\n",
    "ratings_data = pd.read_csv(RATINGS_DATA_FILE)\n",
    "movies_data = pd.read_csv(MOVIES_DATA_FILE)\n",
    "\n",
    "print(\"Movies Data:\")\n",
    "print(movies_data.head())\n",
    "\n",
    "print(\"\\nRatings Data:\")\n",
    "print(ratings_data.head())\n"
   ]
  },
  {
   "cell_type": "code",
   "execution_count": 5,
   "metadata": {},
   "outputs": [],
   "source": [
    "import subprocess\n",
    "import sys\n",
    "\n",
    "subprocess.check_call([sys.executable, \"-m\", \"pip\", \"install\", \"numpy<2.0\"])\n",
    "\n",
    "# 1 Pripravi Surprise dataset za filme\n",
    "from surprise import Dataset\n",
    "from surprise import Reader\n",
    " \n",
    "# Get minimum and maximum rating from the dataset\n",
    "min_rating = ratings_data.rating.min()\n",
    "max_rating = ratings_data.rating.max()\n",
    " \n",
    "reader = Reader(rating_scale=(min_rating, max_rating))\n",
    "data = Dataset.load_from_df(ratings_data[['userId', 'movieId', 'rating']], reader)\n"
   ]
  },
  {
   "cell_type": "code",
   "execution_count": 6,
   "metadata": {},
   "outputs": [
    {
     "name": "stdout",
     "output_type": "stream",
     "text": [
      "Computing the msd similarity matrix...\n",
      "Done computing similarity matrix.\n"
     ]
    },
    {
     "data": {
      "text/plain": [
       "<surprise.prediction_algorithms.knns.KNNBasic at 0x2509b7200b0>"
      ]
     },
     "execution_count": 6,
     "metadata": {},
     "output_type": "execute_result"
    }
   ],
   "source": [
    "from surprise import KNNBasic\n",
    "\n",
    "# Retrieve the trainset.\n",
    "trainset = data.build_full_trainset()\n",
    "\n",
    "# Build an algorithm, and train it.\n",
    "algo = KNNBasic()\n",
    "algo.fit(trainset)\n"
   ]
  },
  {
   "cell_type": "code",
   "execution_count": 12,
   "metadata": {},
   "outputs": [
    {
     "name": "stdout",
     "output_type": "stream",
     "text": [
      "user: 610        item: 168252     r_ui = 4.00   est = 4.31   {'actual_k': 16, 'was_impossible': False}\n",
      "ijdnidjn\n",
      "user: 1          item: 168252     r_ui = None   est = 4.33   {'actual_k': 16, 'was_impossible': False}\n",
      "ijdnidjn\n",
      "user: 2          item: 168252     r_ui = None   est = 4.28   {'actual_k': 15, 'was_impossible': False}\n",
      "ijdnidjn\n",
      "user: 3          item: 168252     r_ui = None   est = 4.42   {'actual_k': 8, 'was_impossible': False}\n",
      "ijdnidjn\n",
      "user: 4          item: 168252     r_ui = None   est = 4.31   {'actual_k': 14, 'was_impossible': False}\n",
      "ijdnidjn\n",
      "user: 5          item: 168252     r_ui = None   est = 4.11   {'actual_k': 16, 'was_impossible': False}\n"
     ]
    }
   ],
   "source": [
    "uid = 610  # raw user id (as in the ratings file). \n",
    "iid = 168252  # raw item id (as in the ratings file). \n",
    "\n",
    "# \n",
    "pred = algo.predict(uid, iid, r_ui=4, verbose=True)\n",
    "# Test predictions for 5 different users\n",
    "user_ids = [1, 2, 3, 4, 5]\n",
    "item_id = 168252  # same item for simplicity\n",
    "\n",
    "for user_id in user_ids:\n",
    "    print(\"ijdnidjn\")\n",
    "    pred = algo.predict(user_id, item_id, verbose=True)\n"
   ]
  },
  {
   "cell_type": "code",
   "execution_count": 13,
   "metadata": {},
   "outputs": [
    {
     "name": "stdout",
     "output_type": "stream",
     "text": [
      "Computing the msd similarity matrix...\n",
      "Done computing similarity matrix.\n",
      "RMSE: 0.9554\n",
      "k=5, RMSE=0.9553642194106577\n",
      "Computing the msd similarity matrix...\n",
      "Done computing similarity matrix.\n",
      "RMSE: 0.9395\n",
      "k=10, RMSE=0.939491120156738\n",
      "Computing the msd similarity matrix...\n",
      "Done computing similarity matrix.\n",
      "RMSE: 0.9394\n",
      "k=20, RMSE=0.9394275793949977\n",
      "Computing the msd similarity matrix...\n",
      "Done computing similarity matrix.\n",
      "RMSE: 0.9464\n",
      "k=40, RMSE=0.946364824513565\n",
      "Computing the msd similarity matrix...\n",
      "Done computing similarity matrix.\n",
      "RMSE: 0.9526\n",
      "k=80, RMSE=0.9526189458351387\n"
     ]
    }
   ],
   "source": [
    "from surprise import KNNBasic, Dataset, Reader, accuracy\n",
    "from surprise.model_selection import train_test_split\n",
    "\n",
    "# Load the data\n",
    "ratings_data = pd.read_csv('ratings.csv')\n",
    "reader = Reader(rating_scale=(ratings_data.rating.min(), ratings_data.rating.max()))\n",
    "data = Dataset.load_from_df(ratings_data[['userId', 'movieId', 'rating']], reader)\n",
    "\n",
    "# Split the data into train and test sets\n",
    "trainset, testset = train_test_split(data, test_size=0.2)\n",
    "\n",
    "# Test different values of k\n",
    "for k in [5, 10, 20, 40, 80]:\n",
    "    algo = KNNBasic(k=k)\n",
    "    algo.fit(trainset)\n",
    "    predictions = algo.test(testset)\n",
    "    rmse = accuracy.rmse(predictions, verbose=True)\n",
    "    print(f'k={k}, RMSE={rmse}')"
   ]
  },
  {
   "cell_type": "code",
   "execution_count": 11,
   "metadata": {},
   "outputs": [
    {
     "name": "stdout",
     "output_type": "stream",
     "text": [
      "Computing the msd similarity matrix...\n",
      "Done computing similarity matrix.\n",
      "RMSE: 0.9620\n",
      "Computing the msd similarity matrix...\n",
      "Done computing similarity matrix.\n",
      "RMSE: 0.9544\n",
      "Computing the msd similarity matrix...\n",
      "Done computing similarity matrix.\n",
      "RMSE: 0.9568\n"
     ]
    }
   ],
   "source": [
    "from surprise.model_selection import KFold\n",
    "from surprise import accuracy, Dataset, SVD\n",
    "\n",
    "kf = KFold(n_splits=3)\n",
    "\n",
    "algo = KNNBasic()\n",
    "\n",
    "for trainset, testset in kf.split(data):\n",
    "\n",
    "    # učenje\n",
    "    algo.fit(trainset)\n",
    "    # napoved\n",
    "    predictions = algo.test(testset)\n",
    "\n",
    "    # ocena natančnosti\n",
    "    accuracy.rmse(predictions, verbose=True)\n"
   ]
  },
  {
   "cell_type": "code",
   "execution_count": 14,
   "metadata": {},
   "outputs": [
    {
     "name": "stdout",
     "output_type": "stream",
     "text": [
      "Computing the msd similarity matrix...\n",
      "Done computing similarity matrix.\n",
      "RMSE: 0.9685\n",
      "Computing the msd similarity matrix...\n",
      "Done computing similarity matrix.\n",
      "RMSE: 0.9696\n",
      "Computing the msd similarity matrix...\n",
      "Done computing similarity matrix.\n",
      "RMSE: 0.9743\n",
      "k=5, Average RMSE=0.9708044069856964\n",
      "Number of predictions: 100836\n",
      "First prediction: user: 387        item: 1285       r_ui = 3.00   est = 3.27   {'actual_k': 5, 'was_impossible': False}\n",
      "Computing the msd similarity matrix...\n",
      "Done computing similarity matrix.\n",
      "RMSE: 0.9514\n",
      "Computing the msd similarity matrix...\n",
      "Done computing similarity matrix.\n",
      "RMSE: 0.9489\n",
      "Computing the msd similarity matrix...\n",
      "Done computing similarity matrix.\n",
      "RMSE: 0.9592\n",
      "k=10, Average RMSE=0.953175719421179\n",
      "Number of predictions: 100836\n",
      "First prediction: user: 192        item: 225        r_ui = 4.00   est = 3.73   {'actual_k': 10, 'was_impossible': False}\n",
      "Computing the msd similarity matrix...\n",
      "Done computing similarity matrix.\n",
      "RMSE: 0.9578\n",
      "Computing the msd similarity matrix...\n",
      "Done computing similarity matrix.\n",
      "RMSE: 0.9510\n",
      "Computing the msd similarity matrix...\n",
      "Done computing similarity matrix.\n",
      "RMSE: 0.9494\n",
      "k=20, Average RMSE=0.952729132022888\n",
      "Number of predictions: 100836\n",
      "First prediction: user: 495        item: 3157       r_ui = 0.50   est = 3.00   {'actual_k': 11, 'was_impossible': False}\n",
      "Computing the msd similarity matrix...\n",
      "Done computing similarity matrix.\n",
      "RMSE: 0.9616\n",
      "Computing the msd similarity matrix...\n",
      "Done computing similarity matrix.\n",
      "RMSE: 0.9584\n"
     ]
    },
    {
     "ename": "KeyboardInterrupt",
     "evalue": "",
     "output_type": "error",
     "traceback": [
      "\u001b[1;31m---------------------------------------------------------------------------\u001b[0m",
      "\u001b[1;31mKeyboardInterrupt\u001b[0m                         Traceback (most recent call last)",
      "Cell \u001b[1;32mIn[14], line 19\u001b[0m\n\u001b[0;32m     16\u001b[0m rmses \u001b[38;5;241m=\u001b[39m []\n\u001b[0;32m     17\u001b[0m all_predictions \u001b[38;5;241m=\u001b[39m []\n\u001b[1;32m---> 19\u001b[0m \u001b[43m\u001b[49m\u001b[38;5;28;43;01mfor\u001b[39;49;00m\u001b[43m \u001b[49m\u001b[43mtrainset\u001b[49m\u001b[43m,\u001b[49m\u001b[43m \u001b[49m\u001b[43mtestset\u001b[49m\u001b[43m \u001b[49m\u001b[38;5;129;43;01min\u001b[39;49;00m\u001b[43m \u001b[49m\u001b[43mkf\u001b[49m\u001b[38;5;241;43m.\u001b[39;49m\u001b[43msplit\u001b[49m\u001b[43m(\u001b[49m\u001b[43mdata\u001b[49m\u001b[43m)\u001b[49m\u001b[43m:\u001b[49m\n\u001b[0;32m     20\u001b[0m \u001b[43m    \u001b[49m\u001b[38;5;66;43;03m# Train the algorithm\u001b[39;49;00m\n\u001b[0;32m     21\u001b[0m \u001b[43m    \u001b[49m\u001b[43malgo\u001b[49m\u001b[38;5;241;43m.\u001b[39;49m\u001b[43mfit\u001b[49m\u001b[43m(\u001b[49m\u001b[43mtrainset\u001b[49m\u001b[43m)\u001b[49m\n\u001b[0;32m     22\u001b[0m \u001b[43m    \u001b[49m\u001b[38;5;66;43;03m# Make predictions\u001b[39;49;00m\n",
      "File \u001b[1;32m~\\AppData\\Local\\Packages\\PythonSoftwareFoundation.Python.3.12_qbz5n2kfra8p0\\LocalCache\\local-packages\\Python312\\site-packages\\surprise\\model_selection\\split.py:115\u001b[0m, in \u001b[0;36mKFold.split\u001b[1;34m(self, data)\u001b[0m\n\u001b[0;32m    110\u001b[0m     stop \u001b[38;5;241m+\u001b[39m\u001b[38;5;241m=\u001b[39m \u001b[38;5;241m1\u001b[39m\n\u001b[0;32m    112\u001b[0m raw_trainset \u001b[38;5;241m=\u001b[39m [\n\u001b[0;32m    113\u001b[0m     data\u001b[38;5;241m.\u001b[39mraw_ratings[i] \u001b[38;5;28;01mfor\u001b[39;00m i \u001b[38;5;129;01min\u001b[39;00m chain(indices[:start], indices[stop:])\n\u001b[0;32m    114\u001b[0m ]\n\u001b[1;32m--> 115\u001b[0m raw_testset \u001b[38;5;241m=\u001b[39m [data\u001b[38;5;241m.\u001b[39mraw_ratings[i] \u001b[38;5;28;01mfor\u001b[39;00m i \u001b[38;5;129;01min\u001b[39;00m indices[start:stop]]\n\u001b[0;32m    117\u001b[0m trainset \u001b[38;5;241m=\u001b[39m data\u001b[38;5;241m.\u001b[39mconstruct_trainset(raw_trainset)\n\u001b[0;32m    118\u001b[0m testset \u001b[38;5;241m=\u001b[39m data\u001b[38;5;241m.\u001b[39mconstruct_testset(raw_testset)\n",
      "\u001b[1;31mKeyboardInterrupt\u001b[0m: "
     ]
    }
   ],
   "source": [
    "from surprise import KNNBasic, Dataset, Reader, accuracy\n",
    "from surprise.model_selection import KFold\n",
    "import pandas as pd\n",
    "\n",
    "# Load the data\n",
    "ratings_data = pd.read_csv('ratings.csv')\n",
    "reader = Reader(rating_scale=(ratings_data.rating.min(), ratings_data.rating.max()))\n",
    "data = Dataset.load_from_df(ratings_data[['userId', 'movieId', 'rating']], reader)\n",
    "\n",
    "kf = KFold(n_splits=3)\n",
    "\n",
    "# Test different values of k\n",
    "for k in [5, 10, 20, 40, 80]:\n",
    "    algo = KNNBasic(k=k)\n",
    "    \n",
    "    rmses = []\n",
    "    all_predictions = []\n",
    "    \n",
    "    for trainset, testset in kf.split(data):\n",
    "        # Train the algorithm\n",
    "        algo.fit(trainset)\n",
    "        # Make predictions\n",
    "        predictions = algo.test(testset)\n",
    "        all_predictions.extend(predictions)\n",
    "        # Evaluate accuracy\n",
    "        rmse = accuracy.rmse(predictions, verbose=True)\n",
    "        rmses.append(rmse)\n",
    "    \n",
    "    avg_rmse = sum(rmses) / len(rmses)\n",
    "    print(f'k={k}, Average RMSE={avg_rmse}')\n",
    "    \n",
    "    # Print predictions object details\n",
    "    print(f'Number of predictions: {len(all_predictions)}')\n",
    "    print(f'First prediction: {all_predictions[0]}')"
   ]
  },
  {
   "cell_type": "code",
   "execution_count": 9,
   "metadata": {},
   "outputs": [
    {
     "name": "stdout",
     "output_type": "stream",
     "text": [
      "Evaluating RMSE, MAE of algorithm SVD on 10 split(s).\n",
      "\n",
      "                  Fold 1  Fold 2  Fold 3  Fold 4  Fold 5  Fold 6  Fold 7  Fold 8  Fold 9  Fold 10 Mean    Std     \n",
      "RMSE (testset)    0.8773  0.8614  0.8840  0.8753  0.8690  0.8852  0.8887  0.8740  0.8839  0.8833  0.8782  0.0080  \n",
      "MAE (testset)     0.6723  0.6676  0.6813  0.6754  0.6695  0.6816  0.6829  0.6731  0.6800  0.6797  0.6763  0.0052  \n",
      "Fit time          0.59    0.67    0.57    0.60    0.61    0.60    0.66    0.60    0.64    0.63    0.62    0.03    \n",
      "Test time         0.17    0.03    0.05    0.09    0.05    0.05    0.05    0.12    0.05    0.03    0.07    0.04    \n"
     ]
    }
   ],
   "source": [
    "# Testiraj natancnost algoritma s krizno validacijo\n",
    "\n",
    "from surprise import SVD, KNNBasic, accuracy\n",
    "from surprise.model_selection import cross_validate\n",
    " \n",
    "# Izberi algoritem in parametre\n",
    "algoritem = SVD(n_epochs=10)\n",
    "# Izvedi križno validacijo (učenje in testiranje)\n",
    "results = cross_validate(algoritem, data, measures=['RMSE', 'MAE'], cv=10, verbose=True)\n",
    "\n"
   ]
  },
  {
   "cell_type": "code",
   "execution_count": 16,
   "metadata": {},
   "outputs": [
    {
     "name": "stdout",
     "output_type": "stream",
     "text": [
      "Evaluating RMSE, MAE of algorithm SVD on 10 split(s).\n",
      "\n",
      "                         Fold 1    Fold 2    Fold 3    Fold 4    Fold 5    Fold 6    Fold 7    Fold 8    Fold 9    Fold 10   Mean     Std\n",
      "RMSE (testset)    [0.8634, 0.8774, 0.8616, 0.8612, 0.8645, 0.8676, 0.8649, 0.8603, 0.8737, 0.8576]  0.8652  0.0058\n",
      "MAE (testset)     [0.6626, 0.6729, 0.664, 0.6616, 0.6693, 0.6684, 0.6628, 0.6588, 0.6701, 0.6588]  0.6649  0.0047\n",
      "Fit time          [0.98, 1.03, 0.9, 0.97, 0.75, 0.77, 0.75, 0.77, 0.77, 0.8]   0.85    0.10\n",
      "Test time         [0.05, 0.06, 0.06, 0.05, 0.06, 0.03, 0.03, 0.03, 0.05, 0.08]    0.05    0.01\n"
     ]
    }
   ],
   "source": [
    "from surprise import SVD, Dataset, Reader\n",
    "from surprise.model_selection import cross_validate\n",
    "import pandas as pd\n",
    "import numpy as np\n",
    "\n",
    "# Naloži podatke\n",
    "ratings_data = pd.read_csv('ratings.csv')\n",
    "reader = Reader(rating_scale=(ratings_data.rating.min(), ratings_data.rating.max()))\n",
    "data = Dataset.load_from_df(ratings_data[['userId', 'movieId', 'rating']], reader)\n",
    "\n",
    "# Definiraj SVD algoritma z določenimi parametri\n",
    "algo = SVD(n_factors=50, n_epochs=20, random_state=42)\n",
    "\n",
    "# Izvedi križno validacijo\n",
    "results = cross_validate(algo, data, measures=['RMSE', 'MAE'], cv=10, return_train_measures=True)\n",
    "\n",
    "# Convert lists to numpy arrays\n",
    "results['fit_time'] = np.array(results['fit_time'])\n",
    "results['test_time'] = np.array(results['test_time'])\n",
    "\n",
    "# Izračunaj povprečne vrednosti\n",
    "avg_rmse = results['test_rmse'].mean()\n",
    "std_rmse = results['test_rmse'].std()\n",
    "avg_mae = results['test_mae'].mean()\n",
    "std_mae = results['test_mae'].std()\n",
    "avg_fit_time = results['fit_time'].mean()\n",
    "std_fit_time = results['fit_time'].std()\n",
    "avg_test_time = results['test_time'].mean()\n",
    "std_test_time = results['test_time'].std()\n",
    "\n",
    "# Prikaz rezultatov\n",
    "print(f\"Evaluating RMSE, MAE of algorithm SVD on 10 split(s).\\n\")\n",
    "print(f\"{'':25}Fold 1    Fold 2    Fold 3    Fold 4    Fold 5    Fold 6    Fold 7    Fold 8    Fold 9    Fold 10   Mean     Std\")\n",
    "print(f\"RMSE (testset)    {results['test_rmse'].round(4).tolist()}  {avg_rmse:.4f}  {std_rmse:.4f}\")\n",
    "print(f\"MAE (testset)     {results['test_mae'].round(4).tolist()}  {avg_mae:.4f}  {std_mae:.4f}\")\n",
    "print(f\"Fit time          {results['fit_time'].round(2).tolist()}   {avg_fit_time:.2f}    {std_fit_time:.2f}\")\n",
    "print(f\"Test time         {results['test_time'].round(2).tolist()}    {avg_test_time:.2f}    {std_test_time:.2f}\")"
   ]
  },
  {
   "cell_type": "code",
   "execution_count": null,
   "metadata": {},
   "outputs": [],
   "source": []
  }
 ],
 "metadata": {
  "kernelspec": {
   "display_name": "Python 3",
   "language": "python",
   "name": "python3"
  },
  "language_info": {
   "codemirror_mode": {
    "name": "ipython",
    "version": 3
   },
   "file_extension": ".py",
   "mimetype": "text/x-python",
   "name": "python",
   "nbconvert_exporter": "python",
   "pygments_lexer": "ipython3",
   "version": "3.12.7"
  }
 },
 "nbformat": 4,
 "nbformat_minor": 2
}
