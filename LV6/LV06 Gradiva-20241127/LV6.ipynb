{
 "cells": [
  {
   "cell_type": "code",
   "execution_count": 63,
   "metadata": {
    "pycharm": {
     "is_executing": false
    },
    "trusted": false
   },
   "outputs": [
    {
     "data": {
      "text/plain": [
       "' \\n%pip install datetime\\n%pip install seaborn\\n%pip installsklearn \\n%pip install numpy\\n%pip install matplotlib\\n%pip install pandas\\n%pip install scikit-learn\\n%pip install seaborn\\n%pip install surprise\\n%pip install statsmodels\\n%pip install scipy'"
      ]
     },
     "execution_count": 63,
     "metadata": {},
     "output_type": "execute_result"
    }
   ],
   "source": [
    "# instalacija knjižnjic Python\n",
    "\n",
    "\n",
    "\n",
    "\"\"\" \n",
    "%pip install datetime\n",
    "%pip install seaborn\n",
    "%pip installsklearn \n",
    "%pip install numpy\n",
    "%pip install matplotlib\n",
    "%pip install pandas\n",
    "%pip install scikit-learn\n",
    "%pip install seaborn\n",
    "%pip install surprise\n",
    "%pip install statsmodels\n",
    "%pip install scipy\"\"\"\n",
    "\n",
    "\n"
   ]
  },
  {
   "cell_type": "code",
   "execution_count": 64,
   "metadata": {
    "pycharm": {
     "is_executing": false
    },
    "trusted": false
   },
   "outputs": [
    {
     "name": "stdout",
     "output_type": "stream",
     "text": [
      "   user_id  item_id  rating  timestamp\n",
      "0        0       50       5  881250949\n",
      "1        0      172       5  881250949\n",
      "2        0      133       1  881250949\n",
      "3      196      242       3  881250949\n",
      "4      186      302       3  891717742\n"
     ]
    }
   ],
   "source": [
    "import numpy as np\n",
    "import pandas as pd\n",
    "import sklearn.cross_decomposition\n",
    "\n",
    "column_names = ['user_id', 'item_id', 'rating', 'timestamp']\n",
    "df = pd.read_csv('u.data', sep='\\t', names=column_names)\n",
    "print(df.head())\n"
   ]
  },
  {
   "cell_type": "code",
   "execution_count": 65,
   "metadata": {
    "pycharm": {
     "is_executing": false
    },
    "trusted": false
   },
   "outputs": [
    {
     "name": "stdout",
     "output_type": "stream",
     "text": [
      "(100003, 5)\n",
      "   user_id  item_id  rating  timestamp                            title\n",
      "0        0       50       5  881250949                 Star Wars (1977)\n",
      "1        0      172       5  881250949  Empire Strikes Back, The (1980)\n",
      "2        0      133       1  881250949        Gone with the Wind (1939)\n",
      "3      196      242       3  881250949                     Kolya (1996)\n",
      "4      186      302       3  891717742         L.A. Confidential (1997)\n"
     ]
    }
   ],
   "source": [
    "movie_titles = pd.read_csv(\"Movie_Id_Titles\")\n",
    "movie_titles.head()\n",
    "df = pd.merge(df, movie_titles, on='item_id')\n",
    "print(df.shape)\n",
    "print(df.head())\n"
   ]
  },
  {
   "cell_type": "code",
   "execution_count": 66,
   "metadata": {
    "pycharm": {
     "is_executing": false
    },
    "trusted": false
   },
   "outputs": [
    {
     "name": "stdout",
     "output_type": "stream",
     "text": [
      "Number of users: 944\n",
      "Number of unique values in the dataframe: 53577\n",
      "Number of movies: 1682\n"
     ]
    }
   ],
   "source": [
    "# Print the number of users\n",
    "num_users = df['user_id'].nunique()\n",
    "print(f\"Number of users: {num_users}\")\n",
    "\n",
    "# Print the number of unique values in the dataframe\n",
    "num_unique_values = df.nunique().sum()\n",
    "print(f\"Number of unique values in the dataframe: {num_unique_values}\")\n",
    "\n",
    "# Print the number of movies\n",
    "num_movies = df['item_id'].nunique()\n",
    "print(f\"Number of movies: {num_movies}\")\n",
    "\n",
    "\n"
   ]
  },
  {
   "cell_type": "code",
   "execution_count": 67,
   "metadata": {},
   "outputs": [
    {
     "name": "stdout",
     "output_type": "stream",
     "text": [
      "(944,)\n"
     ]
    }
   ],
   "source": [
    "# Sortiraj po vsoti ocen za uporabnika\n",
    "sm = train_data_matrix.sum(axis = 1)\n",
    "print(sm.shape)\n",
    "sort_ind = np.argsort(-sm)\n",
    "sm2 = sm[sort_ind]\n",
    "\n",
    "# \n",
    "train_data_3 = train_data_2[sort_ind,:]\n",
    "# \n",
    "train_data_4 = train_data_3[0:100,:]\n"
   ]
  },
  {
   "cell_type": "code",
   "execution_count": 68,
   "metadata": {},
   "outputs": [
    {
     "data": {
      "text/plain": [
       "count    944.000000\n",
       "mean     105.935381\n",
       "std      100.933948\n",
       "min        3.000000\n",
       "25%       33.000000\n",
       "50%       64.500000\n",
       "75%      148.000000\n",
       "max      737.000000\n",
       "Name: user_id, dtype: float64"
      ]
     },
     "execution_count": 68,
     "metadata": {},
     "output_type": "execute_result"
    }
   ],
   "source": [
    "df1 = df.groupby('user_id')['user_id'].count()\n",
    "df1.describe()\n"
   ]
  },
  {
   "cell_type": "code",
   "execution_count": 69,
   "metadata": {},
   "outputs": [
    {
     "name": "stdout",
     "output_type": "stream",
     "text": [
      "[  3 272  62  54  24 175 211 403  59  22 184 181  51 636  98 104 140  28\n",
      " 277  20  48 179 128 151  68  78 107  25  79  34  43  36  41  24  20  25\n",
      "  20  57 121  22  35  52 183 221 151  48  27  25  66 215  24  23  56  28\n",
      "  65  21 187 106 154 382 208  21 232  93 200  80  38  30  34  65 131  38\n",
      " 137  66  39  79  82  72  21  55  29  58 168 155  68 288  23 211  21  76\n",
      " 300  98 388  20 400 278  56  63  27 136  59  67 216  29 111  23  64  22\n",
      "  33 234 133  24  46  51  48  92 143  86  71 181  26  74  61  54  24 182\n",
      "  45  23 184  30 353  30  22  26  25  55  35  47  51  24  21 107  33  20\n",
      " 206 316  29  20  65  36  32 307 106  23  51  22  37  51 173 107 120  58\n",
      "  42  23  63  30  20  69  69  37  22  28  27  43 177  38  63 115 273  42\n",
      "  63 435  28  53 251  48  92  56 112 187  59  27  35 121 305  96  39 118\n",
      " 181  40 216 386  20  43  42  22  64 230  33  33 132  37  25 126 128  93\n",
      " 131  76  53  28  22 146 387 105 141  27  50  58  21  30 133  21  93 110\n",
      " 480  94 124  48  29 159  24  23  20  81 238  22 195  26  56 161 122  77\n",
      "  21  97 159  83 207  57  23  46  24  27 160 123 120  46  23 185 328 323\n",
      " 138 278  51  22  71  95 518  54  23 434 258  26  22  53  47  32 288  62\n",
      "  75  27 150 296 124 388 150 196 147 192 127 280  20 275  21 484  26 222\n",
      "  32 112 397  20  21 294 223 262 245  87  75  22 174  23 154 125  51  89\n",
      "  66 142 187 284 283  65 147  70 183  26 333  22 130  34  75 254  44  21\n",
      " 201 237 190 232 193 199  58  41  50  44  42  25 233  26  24  76  43  27\n",
      " 102 121  25 311  20  58  33  58  45  22  75  51  66 233 274  28  30  33\n",
      " 375 196 162 127  53  71  22 281  23 304  52 271  31 121 111 448 149  57\n",
      "  54 102 172 319  22 153  68  50  44 737 342 226  27 203  28  58  51  50\n",
      "  25  24 493 365  20  32  36  62  97  64  44 204 101  31  55 414  65  21\n",
      "  62  41  44 379 145 263  33  31  51  20 143  24  24 135  36 139  38  75\n",
      " 540  98 206 156 236 189 217 277 183 118  68  23  33 133  53  80 101  44\n",
      " 143  43  57  31 263  35 327  20  83  35 113 202  60  56  26  59 139  26\n",
      " 189 231 154 109  57  33  55 135  47 213 129 279 149 102 225  73  37 160\n",
      " 251 112 242  58  87  33  30  24  21  22 194  40  21  37  73  49  23 150\n",
      "  30 100 306  54  68 137  53  43  45  30 274 260  80 218 163 490  81  56\n",
      "  63 133 135 197  31 162  59  23 155  25  40 334  84 100 114  52  44  53\n",
      "  20  76 101 357  72  30  34  35 149 155  81  70  22  20  20  51  46  26\n",
      "  36 188  24  74  47  28  62  27  24  80 166  98 225  43  48  84 360 156\n",
      "  25  96  20  41  25  47  89 148  29  47  27  90 236  37 163  28  75  42\n",
      "  27  28  39 103  43 108 216  89 110 171 228  45 141 106  32 181  27 121\n",
      " 108  20 118  58 135  34  20 104  67 148 109  40 318 206  42 122  38  58\n",
      " 297  24 311  21  22 283 147 685  24  29  71 191 224 121  23 158 166 142\n",
      " 245  47  46 100  46 124  29  35  41  34  77  49  28  62  38  22 399  75\n",
      "  86  20  71  21  24  36 115  32  40 154 157  38  29 105 127 149  21  33\n",
      "  31  47  90 114  29 236 105 138  86 221 162  30  44 167 269  93  39  67\n",
      "  30 168  42  22  85  25  24 322  26  21  38  83  20 107  64  53  24  33\n",
      " 148  35  20 104  26  35  27  60  67 293 108 305  33 168  73  57  34  38\n",
      " 109 166 357  32  41  66  21 129 109  23 175  37  64  29  64  70  33 161\n",
      " 224  28 105  36  65  37  55  42 232  30  39  27 117  57 249  33 231  25\n",
      "  47  55  39 159 358  26 239  24  28  26  75  33 332 273 140 204  23  20\n",
      "  26  21  20  29  35 183  25  36  21  28  21  62  25 185  20 145 115  28\n",
      " 104  64 106  73  25 267  54 102  50  46  93  57 197  31  27 204  81  31\n",
      " 405 146 150  23  51 209  49  41 217  23  26  22  21  39  71  43 165 107\n",
      " 294  66  20  95 208  47 269 115  71  20  34  89  21  81 134  29 368 259\n",
      " 137 268  43 102 240 171  20 326 119  47 226  59 245  20 362 185  30 135\n",
      "  45 124  49 136  47  40  41 147  74  26  60  98  53 132  23  26 317  35\n",
      " 103 217  26 110 127  74  82  32  20 120  32  49  63  61 241 184 174  39\n",
      " 142  40 108  49 107  22  79 168]\n"
     ]
    }
   ],
   "source": [
    "print(df1.values)"
   ]
  },
  {
   "cell_type": "code",
   "execution_count": 70,
   "metadata": {},
   "outputs": [
    {
     "name": "stdout",
     "output_type": "stream",
     "text": [
      "user_id\n",
      "405    737\n",
      "655    685\n",
      "13     636\n",
      "450    540\n",
      "276    518\n",
      "      ... \n",
      "558     20\n",
      "34      20\n",
      "36      20\n",
      "926     20\n",
      "0        3\n",
      "Name: user_id, Length: 944, dtype: int64\n",
      "user_id\n",
      "405    737\n",
      "655    685\n",
      "13     636\n",
      "450    540\n",
      "276    518\n",
      "      ... \n",
      "506    242\n",
      "932    241\n",
      "886    240\n",
      "798    239\n",
      "244    238\n",
      "Name: user_id, Length: 100, dtype: int64\n",
      "User with most data: 405 Number of ratings: 737\n",
      "User with least data: 0 Number of ratings: 3\n"
     ]
    }
   ],
   "source": [
    "#1.5\n",
    "series_user_nratings = df.groupby('user_id')['user_id'].count()\n",
    "\n",
    "ids_nratings_desc = series_user_nratings.sort_values(ascending=False)\n",
    "ids_100_nratings = ids_nratings_desc.iloc[0:100]\n",
    "print(ids_nratings_desc)\n",
    "print(ids_100_nratings)\n",
    "\n",
    "# Find the user with the most and the least data\n",
    "user_most_data = series_user_nratings.idxmax()\n",
    "user_least_data = series_user_nratings.idxmin()\n",
    "\n",
    "# Print the index and values of the series\n",
    "print(\"User with most data:\", user_most_data, \"Number of ratings:\", series_user_nratings[user_most_data])\n",
    "print(\"User with least data:\", user_least_data, \"Number of ratings:\", series_user_nratings[user_least_data])\n"
   ]
  },
  {
   "cell_type": "code",
   "execution_count": 71,
   "metadata": {},
   "outputs": [
    {
     "name": "stdout",
     "output_type": "stream",
     "text": [
      "       user_id  item_id  rating  timestamp  \\\n",
      "47524        1      192       4  875072547   \n",
      "56070        1       45       5  875241687   \n",
      "17675        1      100       5  878543541   \n",
      "15273        1       54       3  878543308   \n",
      "30482        1      256       4  889751712   \n",
      "...        ...      ...     ...        ...   \n",
      "90937      932      600       2  891252412   \n",
      "96793      932      523       4  891250080   \n",
      "77751      932      218       3  891250915   \n",
      "91378      932      148       2  891252140   \n",
      "99838      932      416       3  891250498   \n",
      "\n",
      "                                                   title  \n",
      "47524                                 Raging Bull (1980)  \n",
      "56070                         Eat Drink Man Woman (1994)  \n",
      "17675                                       Fargo (1996)  \n",
      "15273                                    Outbreak (1995)  \n",
      "30482  When the Cats Away (Chacun cherche son chat) (...  \n",
      "...                                                  ...  \n",
      "90937              Daniel Defoe's Robinson Crusoe (1996)  \n",
      "96793                              Cool Hand Luke (1967)  \n",
      "77751                                   Cape Fear (1991)  \n",
      "91378                 Ghost and the Darkness, The (1996)  \n",
      "99838                                  Old Yeller (1957)  \n",
      "\n",
      "[33389 rows x 5 columns]\n"
     ]
    }
   ],
   "source": [
    "indeksi_df = df['user_id'].isin(ids_100_nratings.index)\n",
    "# Nova serija podatkov\n",
    "df5 = df.loc[indeksi_df].sort_values('user_id')\n",
    "print(df5)\n"
   ]
  },
  {
   "cell_type": "code",
   "execution_count": 72,
   "metadata": {},
   "outputs": [
    {
     "name": "stdout",
     "output_type": "stream",
     "text": [
      "Num. of Users: 944\n",
      "Num of Movies: 1682\n"
     ]
    }
   ],
   "source": [
    "#1.6\n",
    "# Podatki so naši originalni podatki\n",
    "train_data = df\n",
    "\n",
    "n_users = train_data.user_id.nunique()\n",
    "n_items = train_data.item_id.nunique()\n",
    "\n",
    "print('Num. of Users: '+ str(n_users))\n",
    "print('Num of Movies: '+ str(n_items))"
   ]
  },
  {
   "cell_type": "code",
   "execution_count": 73,
   "metadata": {},
   "outputs": [
    {
     "name": "stdout",
     "output_type": "stream",
     "text": [
      "Number of people in train_data_4: 100\n"
     ]
    }
   ],
   "source": [
    "num_people = train_data_4.shape[0]\n",
    "print(f\"Number of people in train_data_4: {num_people}\")\n"
   ]
  },
  {
   "cell_type": "code",
   "execution_count": 74,
   "metadata": {},
   "outputs": [
    {
     "name": "stdout",
     "output_type": "stream",
     "text": [
      "[ 2.  3. nan ... nan nan nan]\n"
     ]
    }
   ],
   "source": [
    "#2.1\n",
    "ur_1 = train_data_4[1,:]\n",
    "ur_2 = train_data_4[50,:]\n",
    "print(ur_1)\n"
   ]
  },
  {
   "cell_type": "code",
   "execution_count": 75,
   "metadata": {},
   "outputs": [
    {
     "name": "stdout",
     "output_type": "stream",
     "text": [
      "0.03210721559269311\n"
     ]
    }
   ],
   "source": [
    "#2.2\n",
    "from scipy.stats import pearsonr\n",
    "\n",
    "mask = ~np.isnan(ur_1) &  ~np.isnan(ur_2)  \n",
    "if np.sum(mask) >= 2:\n",
    "\tcorr, _ = pearsonr(ur_1[mask], ur_2[mask])\n",
    "else:\n",
    "\tcorr = np.nan\n",
    "\n",
    "print(corr)\n"
   ]
  },
  {
   "cell_type": "code",
   "execution_count": 76,
   "metadata": {},
   "outputs": [
    {
     "name": "stdout",
     "output_type": "stream",
     "text": [
      "[[ 0.          0.19841011  0.22968366 ...  0.18835665  0.20816537\n",
      "   0.25551185]\n",
      " [ 0.19841011  0.          0.10421103 ...  0.17698523 -0.03696457\n",
      "   0.1732737 ]\n",
      " [ 0.22968366  0.10421103  0.         ...  0.1972609   0.03321634\n",
      "   0.16781803]\n",
      " ...\n",
      " [ 0.18835665  0.17698523  0.1972609  ...  0.          0.21277649\n",
      "   0.14222591]\n",
      " [ 0.20816537 -0.03696457  0.03321634 ...  0.21277649  0.\n",
      "   0.34511434]\n",
      " [ 0.25551185  0.1732737   0.16781803 ...  0.14222591  0.34511434\n",
      "   0.        ]]\n",
      "Velikost:  (100, 100)\n"
     ]
    }
   ],
   "source": [
    "#2.3\n",
    "\n",
    "# Metoda za podobnost\n",
    "def calcPearson(data_matr):\n",
    "    pears = np.zeros([data_matr.shape[0],data_matr.shape[0]])\n",
    "    for j in range(0, data_matr.shape[0]):\n",
    "        for i in range(j, data_matr.shape[0]):\n",
    "            pears[j,i] = np.nan;  # default value\n",
    "            mask = ~np.isnan(data_matr[j,:]) & ~np.isnan(data_matr[i,:])\n",
    "            if sum(mask) >= 2:\n",
    "                pears[j,i], _ = pearsonr(data_matr[j,mask],data_matr[i,mask])\n",
    "            pears[i,j] = pears[j,i]\n",
    "        pears[j,j] = 0.0\n",
    "    return pears\n",
    "\n",
    "\n",
    "# Izracunaj pears_cor\n",
    "pears_cor = calcPearson(train_data_4)\n",
    "\n",
    "print(pears_cor)\n",
    "print(\"Velikost: \",pears_cor.shape)\n"
   ]
  },
  {
   "cell_type": "code",
   "execution_count": 85,
   "metadata": {},
   "outputs": [
    {
     "name": "stdout",
     "output_type": "stream",
     "text": [
      "[[ 0.13518519  0.13518519  0.13518519 ...  0.          0.\n",
      "   0.        ]\n",
      " [-0.9080292   0.0919708   0.         ...  0.          0.\n",
      "   0.        ]\n",
      " [-0.09748428 -0.09748428  0.         ...  0.          0.\n",
      "   0.        ]\n",
      " ...\n",
      " [ 0.96759259 -0.03240741  0.         ...  0.          0.\n",
      "   0.        ]\n",
      " [ 0.          0.26609442  0.         ...  0.          0.\n",
      "   0.        ]\n",
      " [ 0.3487395   0.          1.3487395  ...  0.          0.\n",
      "   0.        ]]\n"
     ]
    }
   ],
   "source": [
    "#3\n",
    "# Postopek \n",
    "\n",
    "# Matrika podobnosti uporabnikov\n",
    "user_similarity = np.copy(pears_cor)\n",
    "\n",
    "# Povprecni rating vsakega uporabnika\n",
    "mean_user_rating = np.nanmean(train_data_4, axis=1)\n",
    "# Povpr rating kot stolpcni vektor\n",
    "c3 = mean_user_rating[:, np.newaxis]\n",
    "\n",
    "# Razlika rating - povprecje, vsebuje nan\n",
    "ratings_diff = (train_data_4 - mean_user_rating[:, np.newaxis]) \n",
    "# Relativni ratnig, vsebuje 0 kjer ni ocene\n",
    "rel_ratings = np.nan_to_num(ratings_diff)\n",
    "print (rel_ratings)\n"
   ]
  },
  {
   "cell_type": "code",
   "execution_count": null,
   "metadata": {},
   "outputs": [
    {
     "name": "stdout",
     "output_type": "stream",
     "text": [
      "Number of people in train_data_4: 944\n"
     ]
    }
   ],
   "source": [
    "num_people = train_data_4.shape[0]\n",
    "print(f\"Number of people in train_data_4: {num_people}\")\n"
   ]
  },
  {
   "cell_type": "code",
   "execution_count": 89,
   "metadata": {},
   "outputs": [],
   "source": [
    "# Izracunaj napoved ocen filmov za izbranega uporabnika\n",
    "\n",
    "# Izbrani ciljni uporabnik izmed 0 .. 100\n",
    "user_id = 69\n",
    "\n",
    "# Podobnost ostalih z izbranim uporabnikom \n",
    "usr1 = user_similarity[:, user_id]\n",
    "\n",
    "usr_sim_ind = usr1 < 0.35\n",
    "\n",
    "usr1[usr_sim_ind] = 0.0\n",
    "\n",
    "# Kaj pomeni ?\n",
    "c2 = usr1.dot(rel_ratings)\n"
   ]
  },
  {
   "cell_type": "code",
   "execution_count": 90,
   "metadata": {},
   "outputs": [
    {
     "name": "stdout",
     "output_type": "stream",
     "text": [
      "[4.03723479 2.87430734 3.3425197  ... 3.52727273 3.52727273 3.52727273]\n"
     ]
    }
   ],
   "source": [
    "# Rezultat : ulomek - napoved relativne ocene za vse filme za enega uporabnika\n",
    "c4 = c2 / np.array([np.abs(usr1).sum()]).T\n",
    "\n",
    "# Napoved ocene filmov : pristejemo povprecno oceno uporabnika\n",
    "povpr_ocena = mean_user_rating[user_id]\n",
    "napoved_ocen = povpr_ocena + c4\n",
    "print (napoved_ocen)\n"
   ]
  },
  {
   "cell_type": "code",
   "execution_count": 91,
   "metadata": {},
   "outputs": [
    {
     "name": "stdout",
     "output_type": "stream",
     "text": [
      "       Napoved  Ocena  Napaka napovedi\n",
      "0     4.037235    4.0         0.037235\n",
      "1     2.874307    2.0         0.874307\n",
      "2     3.342520    2.0         1.342520\n",
      "3     2.874307    4.0        -1.125693\n",
      "4     3.342520    NaN              NaN\n",
      "...        ...    ...              ...\n",
      "1677  3.527273    NaN              NaN\n",
      "1678  3.527273    NaN              NaN\n",
      "1679  3.527273    NaN              NaN\n",
      "1680  3.527273    NaN              NaN\n",
      "1681  3.527273    NaN              NaN\n",
      "\n",
      "[1682 rows x 3 columns]\n"
     ]
    }
   ],
   "source": [
    "# naredi Dataframe in vstavi dejansko oceno in njeno napoved\n",
    "rezultat = pd.DataFrame(napoved_ocen, columns=['Napoved'])\n",
    "rezultat['Ocena'] = train_data_4[user_id,:]\n",
    "rezultat['Napaka napovedi'] = rezultat['Napoved']- rezultat['Ocena'] \n",
    "\n",
    "print(rezultat)\n"
   ]
  },
  {
   "cell_type": "code",
   "execution_count": 92,
   "metadata": {},
   "outputs": [
    {
     "name": "stdout",
     "output_type": "stream",
     "text": [
      "RMSE napaka:  0.9237754160298097\n"
     ]
    },
    {
     "data": {
      "image/png": "[encoded data removed]",
      "text/plain": [
       "<Figure size 1000x600 with 1 Axes>"
      ]
     },
     "metadata": {},
     "output_type": "display_data"
    }
   ],
   "source": [
    "#3.1\n",
    "\n",
    "povpr = np.nanmean(((rezultat['Napaka napovedi'].to_numpy()) **2 ))\n",
    "rmse = np.sqrt(povpr)\n",
    "print('RMSE napaka: ', rmse)\n",
    "import matplotlib.pyplot as plt\n",
    "\n",
    "# Plot histogram of prediction errors\n",
    "plt.figure(figsize=(10, 6))\n",
    "plt.hist(rezultat['Napaka napovedi'].dropna(), bins=50, edgecolor='k')\n",
    "plt.title('Histogram of Prediction Errors')\n",
    "plt.xlabel('Prediction Error')\n",
    "plt.ylabel('Frequency')\n",
    "plt.show()"
   ]
  },
  {
   "cell_type": "code",
   "execution_count": 107,
   "metadata": {},
   "outputs": [
    {
     "name": "stdout",
     "output_type": "stream",
     "text": [
      "[[0.         0.19841011 0.22968366 ... 0.18835665 0.20816537 0.25551185]\n",
      " [0.19841011 0.         0.         ... 0.17698523 0.         0.1732737 ]\n",
      " [0.22968366 0.         0.         ... 0.1972609  0.         0.16781803]\n",
      " ...\n",
      " [0.18835665 0.17698523 0.1972609  ... 0.         0.21277649 0.        ]\n",
      " [0.20816537 0.         0.         ... 0.21277649 0.         0.34511434]\n",
      " [0.25551185 0.1732737  0.16781803 ... 0.         0.34511434 0.        ]]\n"
     ]
    }
   ],
   "source": [
    "#4 \n",
    "# Izbira uporabnikov: podobnost \n",
    "min_podobnost = 0.15\n",
    "# Katerih ne upostevamo, premajhna podobnost\n",
    "i1 = pears_cor[:,:] < min_podobnost\n",
    "\n",
    "user_similarity = np.copy(pears_cor);\n",
    "user_similarity[i1] = 0.0\n",
    "\n",
    "# To so zdaj vsote abs vrednosti podobnih userjev za vsakega userja\n",
    "c5 = np.array([np.abs(user_similarity).sum(axis = 0)]).T\n",
    "\n",
    "# Kaj je to. Zgoraj ulomek, zmnozek relat.ocene in podobnosti\n",
    "calc1 = user_similarity.dot(rel_ratings) \n",
    "\n",
    "# ulomek\n",
    "calc2 = calc1 / c5\n",
    "\n",
    "# napoved ocene : matrika za vse uporabnike in vse filme\n",
    "calc3 = calc2 + c3\n",
    "\n",
    "#print(calc3)\n",
    "print ( user_similarity )\n"
   ]
  },
  {
   "cell_type": "code",
   "execution_count": 110,
   "metadata": {},
   "outputs": [
    {
     "name": "stdout",
     "output_type": "stream",
     "text": [
      "RMSE napaka napovedi:  0.9406619428671747\n"
     ]
    }
   ],
   "source": [
    "#4.1\n",
    "\n",
    "from sklearn.metrics import mean_squared_error\n",
    "from math import sqrt\n",
    "\n",
    "def rmse(prediction, ground_truth):\n",
    "    \"\"\" Izracun RMSE napake za podane matrike\n",
    "\n",
    "    Args:\n",
    "        prediction (_type_): _description_\n",
    "        ground_truth (_type_): _description_\n",
    "\n",
    "    Returns:\n",
    "        _type_: _description_\n",
    "    \"\"\"    ''''''\n",
    "    ground_tr_2 = np.nan_to_num(ground_truth);\n",
    "    prediction2 = np.nan_to_num(prediction);\n",
    "    pred_valid = prediction2[:,0] > 0.0;\n",
    "\n",
    "    # samo veljavne vrstice kjer pred ni nan\n",
    "    prediction3 = prediction2[pred_valid,:]\n",
    "    ground3 = ground_tr_2[pred_valid,:];\n",
    "    \n",
    "    prediction1 = prediction3[ground3.nonzero()].flatten() \n",
    "    ground_truth1 = ground3[ground3.nonzero()].flatten()\n",
    "\n",
    "    return sqrt(mean_squared_error(prediction1, ground_truth1))\n",
    "\n",
    "\n",
    "# Preizkusi in izpisi\n",
    "# calc3 so napovedi, train so dejanske ocene\n",
    "\n",
    "napaka = rmse(calc3, train_data_4)\n",
    "\n",
    "print(\"RMSE napaka napovedi: \", napaka)\n"
   ]
  },
  {
   "cell_type": "code",
   "execution_count": 84,
   "metadata": {},
   "outputs": [],
   "source": [
    "#4.3\n",
    "\n",
    "# Metoda naj vrne matriko napovedanih ocen.\n",
    "\n",
    "def predictRating (rating_data, user_similarity):\n",
    "    \"\"\" Izracun napovedi ocen \n",
    "        Metoda naj vrne matriko napovedanih ocen.\n",
    "\n",
    "    Args:\n",
    "        rating_data (_type_): _description_\n",
    "        user_similarity (_type_): _description_\n",
    "\n",
    "    Returns:\n",
    "        _type_: _description_\n",
    "    \"\"\"\n",
    "    pred_rating = 0;\n",
    "    # Povprecni rating uporabnika\n",
    "    # Povpr rating kot stolpcni vektor\n",
    "    # Razlika rating - povprecje, vsebuje nan\n",
    "    # Relativni ratnig, vsebuje 0 kjer ni ocene\n",
    "    \n",
    "    return pred_rating\n"
   ]
  }
 ],
 "metadata": {
  "kernelspec": {
   "display_name": "Python 3",
   "language": "python",
   "name": "python3"
  },
  "language_info": {
   "codemirror_mode": {
    "name": "ipython",
    "version": 3
   },
   "file_extension": ".py",
   "mimetype": "text/x-python",
   "name": "python",
   "nbconvert_exporter": "python",
   "pygments_lexer": "ipython3",
   "version": "3.12.7"
  },
  "pycharm": {
   "stem_cell": {
    "cell_type": "raw",
    "metadata": {
     "collapsed": false
    },
    "source": []
   }
  },
  "vscode": {
   "interpreter": {
    "hash": "f9b054c170a5091e78c711b969607cef481e4558d560a5a596815aab1a12e7a3"
   }
  }
 },
 "nbformat": 4,
 "nbformat_minor": 1
}
